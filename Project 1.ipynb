{
 "cells": [
  {
   "cell_type": "markdown",
   "metadata": {},
   "source": [
    "# Data 620 - Project 1"
   ]
  },
  {
   "cell_type": "markdown",
   "metadata": {},
   "source": [
    "## Team No. 6\n",
    "\n",
    "- Yohannes Deboch\n",
    "- Sherranette Tinapunan"
   ]
  },
  {
   "cell_type": "markdown",
   "metadata": {},
   "source": [
    "## Video Presentation\n",
    "\n",
    "https://screencast-o-matic.com/watch/cqnth40IT5"
   ]
  },
  {
   "cell_type": "markdown",
   "metadata": {},
   "source": [
    "## Requirements\n",
    "\n",
    "For your first project, you are asked to:\n",
    "\n",
    "- Identify and load a network dataset that has some categorical information available for each node.\n",
    "- For each of the nodes in the dataset, calculate degree centrality and eigenvector centrality.\n",
    "- Compare your centrality measures across your categorical groups."
   ]
  },
  {
   "cell_type": "markdown",
   "metadata": {},
   "source": [
    "## Data set\n",
    "\n",
    "Source: https://www.kaggle.com/devisangeetha/divvy-bike-share-eda-network-analysis/data\n",
    "\n",
    "> Divvy is Chicagoland’s bike share system, with 6,000 bikes available at 570+ stations across Chicago and Evanston. Divvy provides residents and visitors with a convenient, fun and affordable transportation option for getting around and exploring Chicago\n",
    "\n",
    "- This project looks at 'gender', 'from_station_id', 'from_station_name', 'to_station_id, and 'to_station_name'. \n",
    "- This is a directed network. \n",
    "- The nodes represent stations. \n",
    "- Edge represents bike pickup station to bike drop off station.\n",
    "\n"
   ]
  },
  {
   "cell_type": "markdown",
   "metadata": {},
   "source": [
    "## Load libraries\n",
    "\n"
   ]
  },
  {
   "cell_type": "code",
   "execution_count": 1,
   "metadata": {},
   "outputs": [],
   "source": [
    "import pandas as pd\n",
    "import networkx as nx\n",
    "import matplotlib.pyplot as plt\n",
    "from scipy.stats import ttest_1samp\n",
    "import numpy as np"
   ]
  },
  {
   "cell_type": "markdown",
   "metadata": {},
   "source": [
    "##  Read the data"
   ]
  },
  {
   "cell_type": "code",
   "execution_count": 2,
   "metadata": {},
   "outputs": [
    {
     "data": {
      "text/html": [
       "<div>\n",
       "<style scoped>\n",
       "    .dataframe tbody tr th:only-of-type {\n",
       "        vertical-align: middle;\n",
       "    }\n",
       "\n",
       "    .dataframe tbody tr th {\n",
       "        vertical-align: top;\n",
       "    }\n",
       "\n",
       "    .dataframe thead th {\n",
       "        text-align: right;\n",
       "    }\n",
       "</style>\n",
       "<table border=\"1\" class=\"dataframe\">\n",
       "  <thead>\n",
       "    <tr style=\"text-align: right;\">\n",
       "      <th></th>\n",
       "      <th>gender</th>\n",
       "      <th>from_station_id</th>\n",
       "      <th>from_station_name</th>\n",
       "      <th>to_station_id</th>\n",
       "      <th>to_station_name</th>\n",
       "    </tr>\n",
       "  </thead>\n",
       "  <tbody>\n",
       "    <tr>\n",
       "      <th>0</th>\n",
       "      <td>Male</td>\n",
       "      <td>131</td>\n",
       "      <td>Lincoln Ave &amp; Belmont Ave</td>\n",
       "      <td>303</td>\n",
       "      <td>Broadway &amp; Cornelia Ave</td>\n",
       "    </tr>\n",
       "    <tr>\n",
       "      <th>1</th>\n",
       "      <td>Male</td>\n",
       "      <td>282</td>\n",
       "      <td>Halsted St &amp; Maxwell St</td>\n",
       "      <td>22</td>\n",
       "      <td>May St &amp; Taylor St</td>\n",
       "    </tr>\n",
       "    <tr>\n",
       "      <th>2</th>\n",
       "      <td>Male</td>\n",
       "      <td>327</td>\n",
       "      <td>Sheffield Ave &amp; Webster Ave</td>\n",
       "      <td>225</td>\n",
       "      <td>Halsted St &amp; Dickens Ave</td>\n",
       "    </tr>\n",
       "    <tr>\n",
       "      <th>3</th>\n",
       "      <td>Female</td>\n",
       "      <td>134</td>\n",
       "      <td>Peoria St &amp; Jackson Blvd</td>\n",
       "      <td>194</td>\n",
       "      <td>State St &amp; Wacker Dr</td>\n",
       "    </tr>\n",
       "    <tr>\n",
       "      <th>4</th>\n",
       "      <td>Female</td>\n",
       "      <td>320</td>\n",
       "      <td>Loomis St &amp; Lexington St</td>\n",
       "      <td>134</td>\n",
       "      <td>Peoria St &amp; Jackson Blvd</td>\n",
       "    </tr>\n",
       "  </tbody>\n",
       "</table>\n",
       "</div>"
      ],
      "text/plain": [
       "   gender  from_station_id            from_station_name  to_station_id  \\\n",
       "0    Male              131    Lincoln Ave & Belmont Ave            303   \n",
       "1    Male              282      Halsted St & Maxwell St             22   \n",
       "2    Male              327  Sheffield Ave & Webster Ave            225   \n",
       "3  Female              134     Peoria St & Jackson Blvd            194   \n",
       "4  Female              320     Loomis St & Lexington St            134   \n",
       "\n",
       "            to_station_name  \n",
       "0   Broadway & Cornelia Ave  \n",
       "1        May St & Taylor St  \n",
       "2  Halsted St & Dickens Ave  \n",
       "3      State St & Wacker Dr  \n",
       "4  Peoria St & Jackson Blvd  "
      ]
     },
     "execution_count": 2,
     "metadata": {},
     "output_type": "execute_result"
    }
   ],
   "source": [
    "df = pd.read_csv(\"data.csv\")\n",
    "df.head()"
   ]
  },
  {
   "cell_type": "markdown",
   "metadata": {},
   "source": [
    "Create station_id to station_name mapping. This will be used later."
   ]
  },
  {
   "cell_type": "code",
   "execution_count": 3,
   "metadata": {},
   "outputs": [],
   "source": [
    "#Create station_id to station_name mapping\n",
    "from_station_mapping = df[['from_station_id', 'from_station_name']]\n",
    "to_station_mapping =  df[['to_station_id', 'to_station_name']]\n",
    "from_station_mapping.columns = ['station_id', 'station_name']\n",
    "to_station_mapping.columns = ['station_id', 'station_name']\n",
    "\n",
    "#station_id to station_name mapping\n",
    "station_name_id = pd.concat([from_station_mapping, to_station_mapping],ignore_index=True).drop_duplicates().reset_index(drop=True)"
   ]
  },
  {
   "cell_type": "markdown",
   "metadata": {},
   "source": [
    "## Divide data set into male and female groups\n"
   ]
  },
  {
   "cell_type": "code",
   "execution_count": 4,
   "metadata": {},
   "outputs": [],
   "source": [
    "df_male = df[df['gender']=='Male'].copy(deep=True)\n",
    "df_female = df[df['gender']=='Female'].copy(deep=True)"
   ]
  },
  {
   "cell_type": "code",
   "execution_count": 5,
   "metadata": {},
   "outputs": [
    {
     "data": {
      "text/html": [
       "<div>\n",
       "<style scoped>\n",
       "    .dataframe tbody tr th:only-of-type {\n",
       "        vertical-align: middle;\n",
       "    }\n",
       "\n",
       "    .dataframe tbody tr th {\n",
       "        vertical-align: top;\n",
       "    }\n",
       "\n",
       "    .dataframe thead th {\n",
       "        text-align: right;\n",
       "    }\n",
       "</style>\n",
       "<table border=\"1\" class=\"dataframe\">\n",
       "  <thead>\n",
       "    <tr style=\"text-align: right;\">\n",
       "      <th></th>\n",
       "      <th>gender</th>\n",
       "      <th>from_station_id</th>\n",
       "      <th>from_station_name</th>\n",
       "      <th>to_station_id</th>\n",
       "      <th>to_station_name</th>\n",
       "    </tr>\n",
       "  </thead>\n",
       "  <tbody>\n",
       "    <tr>\n",
       "      <th>0</th>\n",
       "      <td>Male</td>\n",
       "      <td>131</td>\n",
       "      <td>Lincoln Ave &amp; Belmont Ave</td>\n",
       "      <td>303</td>\n",
       "      <td>Broadway &amp; Cornelia Ave</td>\n",
       "    </tr>\n",
       "    <tr>\n",
       "      <th>1</th>\n",
       "      <td>Male</td>\n",
       "      <td>282</td>\n",
       "      <td>Halsted St &amp; Maxwell St</td>\n",
       "      <td>22</td>\n",
       "      <td>May St &amp; Taylor St</td>\n",
       "    </tr>\n",
       "    <tr>\n",
       "      <th>2</th>\n",
       "      <td>Male</td>\n",
       "      <td>327</td>\n",
       "      <td>Sheffield Ave &amp; Webster Ave</td>\n",
       "      <td>225</td>\n",
       "      <td>Halsted St &amp; Dickens Ave</td>\n",
       "    </tr>\n",
       "    <tr>\n",
       "      <th>5</th>\n",
       "      <td>Male</td>\n",
       "      <td>332</td>\n",
       "      <td>Halsted St &amp; Diversey Pkwy</td>\n",
       "      <td>319</td>\n",
       "      <td>Greenview Ave &amp; Diversey Pkwy</td>\n",
       "    </tr>\n",
       "    <tr>\n",
       "      <th>6</th>\n",
       "      <td>Male</td>\n",
       "      <td>174</td>\n",
       "      <td>Canal St &amp; Madison St</td>\n",
       "      <td>44</td>\n",
       "      <td>State St &amp; Randolph St</td>\n",
       "    </tr>\n",
       "  </tbody>\n",
       "</table>\n",
       "</div>"
      ],
      "text/plain": [
       "  gender  from_station_id            from_station_name  to_station_id  \\\n",
       "0   Male              131    Lincoln Ave & Belmont Ave            303   \n",
       "1   Male              282      Halsted St & Maxwell St             22   \n",
       "2   Male              327  Sheffield Ave & Webster Ave            225   \n",
       "5   Male              332   Halsted St & Diversey Pkwy            319   \n",
       "6   Male              174        Canal St & Madison St             44   \n",
       "\n",
       "                 to_station_name  \n",
       "0        Broadway & Cornelia Ave  \n",
       "1             May St & Taylor St  \n",
       "2       Halsted St & Dickens Ave  \n",
       "5  Greenview Ave & Diversey Pkwy  \n",
       "6         State St & Randolph St  "
      ]
     },
     "execution_count": 5,
     "metadata": {},
     "output_type": "execute_result"
    }
   ],
   "source": [
    "df_male.head()"
   ]
  },
  {
   "cell_type": "code",
   "execution_count": 6,
   "metadata": {},
   "outputs": [
    {
     "data": {
      "text/html": [
       "<div>\n",
       "<style scoped>\n",
       "    .dataframe tbody tr th:only-of-type {\n",
       "        vertical-align: middle;\n",
       "    }\n",
       "\n",
       "    .dataframe tbody tr th {\n",
       "        vertical-align: top;\n",
       "    }\n",
       "\n",
       "    .dataframe thead th {\n",
       "        text-align: right;\n",
       "    }\n",
       "</style>\n",
       "<table border=\"1\" class=\"dataframe\">\n",
       "  <thead>\n",
       "    <tr style=\"text-align: right;\">\n",
       "      <th></th>\n",
       "      <th>gender</th>\n",
       "      <th>from_station_id</th>\n",
       "      <th>from_station_name</th>\n",
       "      <th>to_station_id</th>\n",
       "      <th>to_station_name</th>\n",
       "    </tr>\n",
       "  </thead>\n",
       "  <tbody>\n",
       "    <tr>\n",
       "      <th>3</th>\n",
       "      <td>Female</td>\n",
       "      <td>134</td>\n",
       "      <td>Peoria St &amp; Jackson Blvd</td>\n",
       "      <td>194</td>\n",
       "      <td>State St &amp; Wacker Dr</td>\n",
       "    </tr>\n",
       "    <tr>\n",
       "      <th>4</th>\n",
       "      <td>Female</td>\n",
       "      <td>320</td>\n",
       "      <td>Loomis St &amp; Lexington St</td>\n",
       "      <td>134</td>\n",
       "      <td>Peoria St &amp; Jackson Blvd</td>\n",
       "    </tr>\n",
       "    <tr>\n",
       "      <th>11</th>\n",
       "      <td>Female</td>\n",
       "      <td>267</td>\n",
       "      <td>Lake Park Ave &amp; 47th St</td>\n",
       "      <td>322</td>\n",
       "      <td>Kimbark Ave &amp; 53rd St</td>\n",
       "    </tr>\n",
       "    <tr>\n",
       "      <th>13</th>\n",
       "      <td>Female</td>\n",
       "      <td>210</td>\n",
       "      <td>Ashland Ave &amp; Division St</td>\n",
       "      <td>350</td>\n",
       "      <td>Ashland Ave &amp; Chicago Ave</td>\n",
       "    </tr>\n",
       "    <tr>\n",
       "      <th>14</th>\n",
       "      <td>Female</td>\n",
       "      <td>332</td>\n",
       "      <td>Halsted St &amp; Diversey Pkwy</td>\n",
       "      <td>350</td>\n",
       "      <td>Ashland Ave &amp; Chicago Ave</td>\n",
       "    </tr>\n",
       "  </tbody>\n",
       "</table>\n",
       "</div>"
      ],
      "text/plain": [
       "    gender  from_station_id           from_station_name  to_station_id  \\\n",
       "3   Female              134    Peoria St & Jackson Blvd            194   \n",
       "4   Female              320    Loomis St & Lexington St            134   \n",
       "11  Female              267     Lake Park Ave & 47th St            322   \n",
       "13  Female              210   Ashland Ave & Division St            350   \n",
       "14  Female              332  Halsted St & Diversey Pkwy            350   \n",
       "\n",
       "              to_station_name  \n",
       "3        State St & Wacker Dr  \n",
       "4    Peoria St & Jackson Blvd  \n",
       "11      Kimbark Ave & 53rd St  \n",
       "13  Ashland Ave & Chicago Ave  \n",
       "14  Ashland Ave & Chicago Ave  "
      ]
     },
     "execution_count": 6,
     "metadata": {},
     "output_type": "execute_result"
    }
   ],
   "source": [
    "df_female.head()"
   ]
  },
  {
   "cell_type": "markdown",
   "metadata": {},
   "source": [
    "## Assign weight to each link for male and female groups\n",
    "\n",
    "- The weight describes how much bike pick-up and drop-off occurs from source to target stations. \n",
    "- The number of 'source -> target' occurrences is counted for each distinct 'source -> target' combination. \n",
    "- This maximum count is determined for each group.\n",
    "- The weight for each link is determined by taking the count and dividing it by the group maximum count. "
   ]
  },
  {
   "cell_type": "code",
   "execution_count": 7,
   "metadata": {},
   "outputs": [],
   "source": [
    "#Generate a from-to id we can use to group by and join later \n",
    "df_male['from_to'] = df_male.apply(lambda row: str(row['from_station_id']) + '->' + str(row['to_station_id']), axis=1)"
   ]
  },
  {
   "cell_type": "code",
   "execution_count": 8,
   "metadata": {
    "scrolled": true
   },
   "outputs": [],
   "source": [
    "df_female['from_to'] = df_female.apply(lambda row: str(row['from_station_id']) + '->' + str(row['to_station_id']), axis=1)"
   ]
  },
  {
   "cell_type": "code",
   "execution_count": 9,
   "metadata": {},
   "outputs": [],
   "source": [
    "#frequency of from-to\n",
    "from_to_count_male = df_male['from_to'].value_counts()\n",
    "from_to_count_female = df_female['from_to'].value_counts()\n",
    "\n",
    "#Call reset_index() to convert series to dataframe\n",
    "from_to_count_male = from_to_count_male.reset_index()\n",
    "from_to_count_female = from_to_count_female.reset_index()\n",
    "\n",
    "#rename columns\n",
    "from_to_count_male.columns = ['from_to', 'count']\n",
    "from_to_count_female.columns = ['from_to', 'count']"
   ]
  },
  {
   "cell_type": "markdown",
   "metadata": {},
   "source": [
    "### Determine maximum 'source -> target' count for each male and female group\n",
    "\n",
    "- Max 'source -> target' count for male is 1199\n",
    "- Max 'source -> target' count for female is 271"
   ]
  },
  {
   "cell_type": "code",
   "execution_count": 10,
   "metadata": {},
   "outputs": [
    {
     "name": "stdout",
     "output_type": "stream",
     "text": [
      "1199\n",
      "271\n"
     ]
    }
   ],
   "source": [
    "max_count_male = from_to_count_male['count'].max()\n",
    "max_count_female =from_to_count_female['count'].max()\n",
    "max_count = max(max_count_male, max_count_female)\n",
    "\n",
    "print(max_count_male)\n",
    "print(max_count_female)"
   ]
  },
  {
   "cell_type": "markdown",
   "metadata": {},
   "source": [
    "### Calculate weight for each male and female group\n",
    "\n",
    "- Weight for each node in each group is determined by dividing the count of the respective 'source -> target' by the max_count. "
   ]
  },
  {
   "cell_type": "code",
   "execution_count": 11,
   "metadata": {
    "scrolled": true
   },
   "outputs": [],
   "source": [
    "#divide count by the maximum count\n",
    "from_to_count_male['weight'] = from_to_count_male.apply(lambda row: row['count']/max_count_male, axis=1)\n",
    "from_to_count_female['weight'] = from_to_count_female.apply(lambda row: row['count']/max_count_female, axis=1)"
   ]
  },
  {
   "cell_type": "markdown",
   "metadata": {},
   "source": [
    "### Male 'source -> target' weights"
   ]
  },
  {
   "cell_type": "code",
   "execution_count": 12,
   "metadata": {},
   "outputs": [
    {
     "data": {
      "text/html": [
       "<div>\n",
       "<style scoped>\n",
       "    .dataframe tbody tr th:only-of-type {\n",
       "        vertical-align: middle;\n",
       "    }\n",
       "\n",
       "    .dataframe tbody tr th {\n",
       "        vertical-align: top;\n",
       "    }\n",
       "\n",
       "    .dataframe thead th {\n",
       "        text-align: right;\n",
       "    }\n",
       "</style>\n",
       "<table border=\"1\" class=\"dataframe\">\n",
       "  <thead>\n",
       "    <tr style=\"text-align: right;\">\n",
       "      <th></th>\n",
       "      <th>from_to</th>\n",
       "      <th>count</th>\n",
       "      <th>weight</th>\n",
       "    </tr>\n",
       "  </thead>\n",
       "  <tbody>\n",
       "    <tr>\n",
       "      <th>0</th>\n",
       "      <td>195-&gt;174</td>\n",
       "      <td>1199</td>\n",
       "      <td>1.000000</td>\n",
       "    </tr>\n",
       "    <tr>\n",
       "      <th>1</th>\n",
       "      <td>283-&gt;174</td>\n",
       "      <td>1187</td>\n",
       "      <td>0.989992</td>\n",
       "    </tr>\n",
       "    <tr>\n",
       "      <th>2</th>\n",
       "      <td>195-&gt;91</td>\n",
       "      <td>1173</td>\n",
       "      <td>0.978315</td>\n",
       "    </tr>\n",
       "    <tr>\n",
       "      <th>3</th>\n",
       "      <td>174-&gt;43</td>\n",
       "      <td>1077</td>\n",
       "      <td>0.898249</td>\n",
       "    </tr>\n",
       "    <tr>\n",
       "      <th>4</th>\n",
       "      <td>195-&gt;192</td>\n",
       "      <td>1074</td>\n",
       "      <td>0.895746</td>\n",
       "    </tr>\n",
       "  </tbody>\n",
       "</table>\n",
       "</div>"
      ],
      "text/plain": [
       "    from_to  count    weight\n",
       "0  195->174   1199  1.000000\n",
       "1  283->174   1187  0.989992\n",
       "2   195->91   1173  0.978315\n",
       "3   174->43   1077  0.898249\n",
       "4  195->192   1074  0.895746"
      ]
     },
     "execution_count": 12,
     "metadata": {},
     "output_type": "execute_result"
    }
   ],
   "source": [
    "#preview for male\n",
    "from_to_count_male.head()"
   ]
  },
  {
   "cell_type": "markdown",
   "metadata": {},
   "source": [
    "### Female 'source -> target' weights"
   ]
  },
  {
   "cell_type": "code",
   "execution_count": 13,
   "metadata": {},
   "outputs": [
    {
     "data": {
      "text/html": [
       "<div>\n",
       "<style scoped>\n",
       "    .dataframe tbody tr th:only-of-type {\n",
       "        vertical-align: middle;\n",
       "    }\n",
       "\n",
       "    .dataframe tbody tr th {\n",
       "        vertical-align: top;\n",
       "    }\n",
       "\n",
       "    .dataframe thead th {\n",
       "        text-align: right;\n",
       "    }\n",
       "</style>\n",
       "<table border=\"1\" class=\"dataframe\">\n",
       "  <thead>\n",
       "    <tr style=\"text-align: right;\">\n",
       "      <th></th>\n",
       "      <th>from_to</th>\n",
       "      <th>count</th>\n",
       "      <th>weight</th>\n",
       "    </tr>\n",
       "  </thead>\n",
       "  <tbody>\n",
       "    <tr>\n",
       "      <th>0</th>\n",
       "      <td>177-&gt;35</td>\n",
       "      <td>271</td>\n",
       "      <td>1.000000</td>\n",
       "    </tr>\n",
       "    <tr>\n",
       "      <th>1</th>\n",
       "      <td>35-&gt;177</td>\n",
       "      <td>267</td>\n",
       "      <td>0.985240</td>\n",
       "    </tr>\n",
       "    <tr>\n",
       "      <th>2</th>\n",
       "      <td>290-&gt;123</td>\n",
       "      <td>239</td>\n",
       "      <td>0.881919</td>\n",
       "    </tr>\n",
       "    <tr>\n",
       "      <th>3</th>\n",
       "      <td>284-&gt;255</td>\n",
       "      <td>238</td>\n",
       "      <td>0.878229</td>\n",
       "    </tr>\n",
       "    <tr>\n",
       "      <th>4</th>\n",
       "      <td>85-&gt;177</td>\n",
       "      <td>211</td>\n",
       "      <td>0.778598</td>\n",
       "    </tr>\n",
       "  </tbody>\n",
       "</table>\n",
       "</div>"
      ],
      "text/plain": [
       "    from_to  count    weight\n",
       "0   177->35    271  1.000000\n",
       "1   35->177    267  0.985240\n",
       "2  290->123    239  0.881919\n",
       "3  284->255    238  0.878229\n",
       "4   85->177    211  0.778598"
      ]
     },
     "execution_count": 13,
     "metadata": {},
     "output_type": "execute_result"
    }
   ],
   "source": [
    "#preview for female\n",
    "from_to_count_female.head()"
   ]
  },
  {
   "cell_type": "code",
   "execution_count": 14,
   "metadata": {},
   "outputs": [],
   "source": [
    "#join from-to data to df_male and df_female\n",
    "df_male2 = df_male.join(from_to_count_male.set_index('from_to'), on='from_to').copy(deep=True)\n",
    "df_female2 = df_female.join(from_to_count_female.set_index('from_to'), on='from_to').copy(deep=True)"
   ]
  },
  {
   "cell_type": "code",
   "execution_count": 15,
   "metadata": {},
   "outputs": [],
   "source": [
    "# drop duplicates to generate top 10 by weight\n",
    "df_male3 = df_male2.drop_duplicates()\n",
    "df_female3 = df_female2.drop_duplicates()"
   ]
  },
  {
   "cell_type": "markdown",
   "metadata": {},
   "source": [
    "###  Top 10 bike pickup and drop off stations"
   ]
  },
  {
   "cell_type": "code",
   "execution_count": 16,
   "metadata": {},
   "outputs": [
    {
     "data": {
      "text/html": [
       "<div>\n",
       "<style scoped>\n",
       "    .dataframe tbody tr th:only-of-type {\n",
       "        vertical-align: middle;\n",
       "    }\n",
       "\n",
       "    .dataframe tbody tr th {\n",
       "        vertical-align: top;\n",
       "    }\n",
       "\n",
       "    .dataframe thead th {\n",
       "        text-align: right;\n",
       "    }\n",
       "</style>\n",
       "<table border=\"1\" class=\"dataframe\">\n",
       "  <thead>\n",
       "    <tr style=\"text-align: right;\">\n",
       "      <th></th>\n",
       "      <th>gender</th>\n",
       "      <th>from_station_id</th>\n",
       "      <th>from_station_name</th>\n",
       "      <th>to_station_id</th>\n",
       "      <th>to_station_name</th>\n",
       "      <th>from_to</th>\n",
       "      <th>count</th>\n",
       "      <th>weight</th>\n",
       "    </tr>\n",
       "  </thead>\n",
       "  <tbody>\n",
       "    <tr>\n",
       "      <th>376</th>\n",
       "      <td>Male</td>\n",
       "      <td>195</td>\n",
       "      <td>Columbus Dr &amp; Randolph St</td>\n",
       "      <td>174</td>\n",
       "      <td>Canal St &amp; Madison St</td>\n",
       "      <td>195-&gt;174</td>\n",
       "      <td>1199</td>\n",
       "      <td>1.000000</td>\n",
       "    </tr>\n",
       "    <tr>\n",
       "      <th>907</th>\n",
       "      <td>Male</td>\n",
       "      <td>283</td>\n",
       "      <td>LaSalle St &amp; Jackson Blvd</td>\n",
       "      <td>174</td>\n",
       "      <td>Canal St &amp; Madison St</td>\n",
       "      <td>283-&gt;174</td>\n",
       "      <td>1187</td>\n",
       "      <td>0.989992</td>\n",
       "    </tr>\n",
       "    <tr>\n",
       "      <th>99</th>\n",
       "      <td>Male</td>\n",
       "      <td>195</td>\n",
       "      <td>Columbus Dr &amp; Randolph St</td>\n",
       "      <td>91</td>\n",
       "      <td>Clinton St &amp; Washington Blvd</td>\n",
       "      <td>195-&gt;91</td>\n",
       "      <td>1173</td>\n",
       "      <td>0.978315</td>\n",
       "    </tr>\n",
       "    <tr>\n",
       "      <th>492</th>\n",
       "      <td>Male</td>\n",
       "      <td>174</td>\n",
       "      <td>Canal St &amp; Madison St</td>\n",
       "      <td>43</td>\n",
       "      <td>Michigan Ave &amp; Washington St</td>\n",
       "      <td>174-&gt;43</td>\n",
       "      <td>1077</td>\n",
       "      <td>0.898249</td>\n",
       "    </tr>\n",
       "    <tr>\n",
       "      <th>1372</th>\n",
       "      <td>Male</td>\n",
       "      <td>49</td>\n",
       "      <td>Dearborn St &amp; Monroe St</td>\n",
       "      <td>174</td>\n",
       "      <td>Canal St &amp; Madison St</td>\n",
       "      <td>49-&gt;174</td>\n",
       "      <td>1074</td>\n",
       "      <td>0.895746</td>\n",
       "    </tr>\n",
       "    <tr>\n",
       "      <th>1836</th>\n",
       "      <td>Male</td>\n",
       "      <td>195</td>\n",
       "      <td>Columbus Dr &amp; Randolph St</td>\n",
       "      <td>192</td>\n",
       "      <td>Canal St &amp; Adams St</td>\n",
       "      <td>195-&gt;192</td>\n",
       "      <td>1074</td>\n",
       "      <td>0.895746</td>\n",
       "    </tr>\n",
       "    <tr>\n",
       "      <th>1943</th>\n",
       "      <td>Male</td>\n",
       "      <td>52</td>\n",
       "      <td>Michigan Ave &amp; Lake St</td>\n",
       "      <td>91</td>\n",
       "      <td>Clinton St &amp; Washington Blvd</td>\n",
       "      <td>52-&gt;91</td>\n",
       "      <td>966</td>\n",
       "      <td>0.805671</td>\n",
       "    </tr>\n",
       "    <tr>\n",
       "      <th>1171</th>\n",
       "      <td>Male</td>\n",
       "      <td>43</td>\n",
       "      <td>Michigan Ave &amp; Washington St</td>\n",
       "      <td>174</td>\n",
       "      <td>Canal St &amp; Madison St</td>\n",
       "      <td>43-&gt;174</td>\n",
       "      <td>942</td>\n",
       "      <td>0.785655</td>\n",
       "    </tr>\n",
       "    <tr>\n",
       "      <th>1129</th>\n",
       "      <td>Male</td>\n",
       "      <td>91</td>\n",
       "      <td>Clinton St &amp; Washington Blvd</td>\n",
       "      <td>43</td>\n",
       "      <td>Michigan Ave &amp; Washington St</td>\n",
       "      <td>91-&gt;43</td>\n",
       "      <td>879</td>\n",
       "      <td>0.733111</td>\n",
       "    </tr>\n",
       "    <tr>\n",
       "      <th>888</th>\n",
       "      <td>Male</td>\n",
       "      <td>91</td>\n",
       "      <td>Clinton St &amp; Washington Blvd</td>\n",
       "      <td>47</td>\n",
       "      <td>State St &amp; Kinzie St</td>\n",
       "      <td>91-&gt;47</td>\n",
       "      <td>807</td>\n",
       "      <td>0.673061</td>\n",
       "    </tr>\n",
       "  </tbody>\n",
       "</table>\n",
       "</div>"
      ],
      "text/plain": [
       "     gender  from_station_id             from_station_name  to_station_id  \\\n",
       "376    Male              195     Columbus Dr & Randolph St            174   \n",
       "907    Male              283     LaSalle St & Jackson Blvd            174   \n",
       "99     Male              195     Columbus Dr & Randolph St             91   \n",
       "492    Male              174         Canal St & Madison St             43   \n",
       "1372   Male               49       Dearborn St & Monroe St            174   \n",
       "1836   Male              195     Columbus Dr & Randolph St            192   \n",
       "1943   Male               52        Michigan Ave & Lake St             91   \n",
       "1171   Male               43  Michigan Ave & Washington St            174   \n",
       "1129   Male               91  Clinton St & Washington Blvd             43   \n",
       "888    Male               91  Clinton St & Washington Blvd             47   \n",
       "\n",
       "                   to_station_name   from_to  count    weight  \n",
       "376          Canal St & Madison St  195->174   1199  1.000000  \n",
       "907          Canal St & Madison St  283->174   1187  0.989992  \n",
       "99    Clinton St & Washington Blvd   195->91   1173  0.978315  \n",
       "492   Michigan Ave & Washington St   174->43   1077  0.898249  \n",
       "1372         Canal St & Madison St   49->174   1074  0.895746  \n",
       "1836           Canal St & Adams St  195->192   1074  0.895746  \n",
       "1943  Clinton St & Washington Blvd    52->91    966  0.805671  \n",
       "1171         Canal St & Madison St   43->174    942  0.785655  \n",
       "1129  Michigan Ave & Washington St    91->43    879  0.733111  \n",
       "888           State St & Kinzie St    91->47    807  0.673061  "
      ]
     },
     "execution_count": 16,
     "metadata": {},
     "output_type": "execute_result"
    }
   ],
   "source": [
    "df_male3.sort_values(by=['weight'], ascending=False).head(n=10)  "
   ]
  },
  {
   "cell_type": "code",
   "execution_count": 17,
   "metadata": {},
   "outputs": [
    {
     "data": {
      "text/html": [
       "<div>\n",
       "<style scoped>\n",
       "    .dataframe tbody tr th:only-of-type {\n",
       "        vertical-align: middle;\n",
       "    }\n",
       "\n",
       "    .dataframe tbody tr th {\n",
       "        vertical-align: top;\n",
       "    }\n",
       "\n",
       "    .dataframe thead th {\n",
       "        text-align: right;\n",
       "    }\n",
       "</style>\n",
       "<table border=\"1\" class=\"dataframe\">\n",
       "  <thead>\n",
       "    <tr style=\"text-align: right;\">\n",
       "      <th></th>\n",
       "      <th>gender</th>\n",
       "      <th>from_station_id</th>\n",
       "      <th>from_station_name</th>\n",
       "      <th>to_station_id</th>\n",
       "      <th>to_station_name</th>\n",
       "      <th>from_to</th>\n",
       "      <th>count</th>\n",
       "      <th>weight</th>\n",
       "    </tr>\n",
       "  </thead>\n",
       "  <tbody>\n",
       "    <tr>\n",
       "      <th>7623</th>\n",
       "      <td>Female</td>\n",
       "      <td>177</td>\n",
       "      <td>Theater on the Lake</td>\n",
       "      <td>35</td>\n",
       "      <td>Streeter Dr &amp; Illinois St</td>\n",
       "      <td>177-&gt;35</td>\n",
       "      <td>271</td>\n",
       "      <td>1.000000</td>\n",
       "    </tr>\n",
       "    <tr>\n",
       "      <th>388</th>\n",
       "      <td>Female</td>\n",
       "      <td>35</td>\n",
       "      <td>Streeter Dr &amp; Illinois St</td>\n",
       "      <td>177</td>\n",
       "      <td>Theater on the Lake</td>\n",
       "      <td>35-&gt;177</td>\n",
       "      <td>267</td>\n",
       "      <td>0.985240</td>\n",
       "    </tr>\n",
       "    <tr>\n",
       "      <th>4749</th>\n",
       "      <td>Female</td>\n",
       "      <td>290</td>\n",
       "      <td>Kedzie Ave &amp; Palmer Ct</td>\n",
       "      <td>123</td>\n",
       "      <td>California Ave &amp; Milwaukee Ave</td>\n",
       "      <td>290-&gt;123</td>\n",
       "      <td>239</td>\n",
       "      <td>0.881919</td>\n",
       "    </tr>\n",
       "    <tr>\n",
       "      <th>153</th>\n",
       "      <td>Female</td>\n",
       "      <td>284</td>\n",
       "      <td>Michigan Ave &amp; Jackson Blvd</td>\n",
       "      <td>255</td>\n",
       "      <td>Indiana Ave &amp; Roosevelt Rd</td>\n",
       "      <td>284-&gt;255</td>\n",
       "      <td>238</td>\n",
       "      <td>0.878229</td>\n",
       "    </tr>\n",
       "    <tr>\n",
       "      <th>7547</th>\n",
       "      <td>Female</td>\n",
       "      <td>85</td>\n",
       "      <td>Michigan Ave &amp; Oak St</td>\n",
       "      <td>177</td>\n",
       "      <td>Theater on the Lake</td>\n",
       "      <td>85-&gt;177</td>\n",
       "      <td>211</td>\n",
       "      <td>0.778598</td>\n",
       "    </tr>\n",
       "    <tr>\n",
       "      <th>477</th>\n",
       "      <td>Female</td>\n",
       "      <td>255</td>\n",
       "      <td>Indiana Ave &amp; Roosevelt Rd</td>\n",
       "      <td>90</td>\n",
       "      <td>Millennium Park</td>\n",
       "      <td>255-&gt;90</td>\n",
       "      <td>205</td>\n",
       "      <td>0.756458</td>\n",
       "    </tr>\n",
       "    <tr>\n",
       "      <th>7226</th>\n",
       "      <td>Female</td>\n",
       "      <td>177</td>\n",
       "      <td>Theater on the Lake</td>\n",
       "      <td>85</td>\n",
       "      <td>Michigan Ave &amp; Oak St</td>\n",
       "      <td>177-&gt;85</td>\n",
       "      <td>203</td>\n",
       "      <td>0.749077</td>\n",
       "    </tr>\n",
       "    <tr>\n",
       "      <th>2362</th>\n",
       "      <td>Female</td>\n",
       "      <td>110</td>\n",
       "      <td>State St &amp; Erie St</td>\n",
       "      <td>192</td>\n",
       "      <td>Canal St &amp; Adams St</td>\n",
       "      <td>110-&gt;192</td>\n",
       "      <td>199</td>\n",
       "      <td>0.734317</td>\n",
       "    </tr>\n",
       "    <tr>\n",
       "      <th>6990</th>\n",
       "      <td>Female</td>\n",
       "      <td>76</td>\n",
       "      <td>Lake Shore Dr &amp; Monroe St</td>\n",
       "      <td>35</td>\n",
       "      <td>Streeter Dr &amp; Illinois St</td>\n",
       "      <td>76-&gt;35</td>\n",
       "      <td>197</td>\n",
       "      <td>0.726937</td>\n",
       "    </tr>\n",
       "    <tr>\n",
       "      <th>1576</th>\n",
       "      <td>Female</td>\n",
       "      <td>90</td>\n",
       "      <td>Millennium Park</td>\n",
       "      <td>255</td>\n",
       "      <td>Indiana Ave &amp; Roosevelt Rd</td>\n",
       "      <td>90-&gt;255</td>\n",
       "      <td>194</td>\n",
       "      <td>0.715867</td>\n",
       "    </tr>\n",
       "  </tbody>\n",
       "</table>\n",
       "</div>"
      ],
      "text/plain": [
       "      gender  from_station_id            from_station_name  to_station_id  \\\n",
       "7623  Female              177          Theater on the Lake             35   \n",
       "388   Female               35    Streeter Dr & Illinois St            177   \n",
       "4749  Female              290       Kedzie Ave & Palmer Ct            123   \n",
       "153   Female              284  Michigan Ave & Jackson Blvd            255   \n",
       "7547  Female               85        Michigan Ave & Oak St            177   \n",
       "477   Female              255   Indiana Ave & Roosevelt Rd             90   \n",
       "7226  Female              177          Theater on the Lake             85   \n",
       "2362  Female              110           State St & Erie St            192   \n",
       "6990  Female               76    Lake Shore Dr & Monroe St             35   \n",
       "1576  Female               90              Millennium Park            255   \n",
       "\n",
       "                     to_station_name   from_to  count    weight  \n",
       "7623       Streeter Dr & Illinois St   177->35    271  1.000000  \n",
       "388              Theater on the Lake   35->177    267  0.985240  \n",
       "4749  California Ave & Milwaukee Ave  290->123    239  0.881919  \n",
       "153       Indiana Ave & Roosevelt Rd  284->255    238  0.878229  \n",
       "7547             Theater on the Lake   85->177    211  0.778598  \n",
       "477                  Millennium Park   255->90    205  0.756458  \n",
       "7226           Michigan Ave & Oak St   177->85    203  0.749077  \n",
       "2362             Canal St & Adams St  110->192    199  0.734317  \n",
       "6990       Streeter Dr & Illinois St    76->35    197  0.726937  \n",
       "1576      Indiana Ave & Roosevelt Rd   90->255    194  0.715867  "
      ]
     },
     "execution_count": 17,
     "metadata": {},
     "output_type": "execute_result"
    }
   ],
   "source": [
    "df_female3.sort_values(by=['weight'], ascending=False).head(n=10) "
   ]
  },
  {
   "cell_type": "markdown",
   "metadata": {},
   "source": [
    "## Create graph object\n",
    "\n",
    "- This is a directed graph."
   ]
  },
  {
   "cell_type": "code",
   "execution_count": 18,
   "metadata": {},
   "outputs": [],
   "source": [
    "#Create directed graph object\n",
    "G_male = nx.from_pandas_edgelist(df_male2, source='from_station_id', target='to_station_id', edge_attr=['weight'], create_using=nx.DiGraph())\n",
    "G_female = nx.from_pandas_edgelist(df_female2, source='from_station_id', target='to_station_id', edge_attr=['weight'], create_using=nx.DiGraph())\n",
    "\n",
    "#w=G_female.edges(data=True)\n",
    "#print(w)"
   ]
  },
  {
   "cell_type": "markdown",
   "metadata": {},
   "source": [
    "### Male network"
   ]
  },
  {
   "cell_type": "code",
   "execution_count": 19,
   "metadata": {},
   "outputs": [
    {
     "name": "stdout",
     "output_type": "stream",
     "text": [
      "Name: \n",
      "Type: DiGraph\n",
      "Number of nodes: 300\n",
      "Number of edges: 43029\n",
      "Average in degree: 143.4300\n",
      "Average out degree: 143.4300\n"
     ]
    }
   ],
   "source": [
    "print(nx.info(G_male))"
   ]
  },
  {
   "cell_type": "markdown",
   "metadata": {},
   "source": [
    "### Female network"
   ]
  },
  {
   "cell_type": "code",
   "execution_count": 20,
   "metadata": {},
   "outputs": [
    {
     "name": "stdout",
     "output_type": "stream",
     "text": [
      "Name: \n",
      "Type: DiGraph\n",
      "Number of nodes: 300\n",
      "Number of edges: 33170\n",
      "Average in degree: 110.5667\n",
      "Average out degree: 110.5667\n"
     ]
    }
   ],
   "source": [
    "print(nx.info(G_female))"
   ]
  },
  {
   "cell_type": "markdown",
   "metadata": {},
   "source": [
    "## Calculate degree of centrality\n",
    "\n",
    "> The in-degree centrality for a node v is the fraction of nodes its incoming edges are connected to.\n",
    "The degree centrality values are normalized by dividing by the maximum possible degree in a simple graph n-1 where n is the number of nodes in G.\n",
    "\n",
    "Source: https://networkx.github.io/documentation/networkx-1.10/reference/generated/networkx.algorithms.centrality.in_degree_centrality.html\n"
   ]
  },
  {
   "cell_type": "code",
   "execution_count": 21,
   "metadata": {
    "scrolled": false
   },
   "outputs": [],
   "source": [
    "#calculate degree centrality\n",
    "\n",
    "in_deg_centrality_male = pd.DataFrame.from_dict(nx.in_degree_centrality(G_male), orient='index').reset_index()\n",
    "in_deg_centrality_female = pd.DataFrame.from_dict(nx.in_degree_centrality(G_female), orient='index').reset_index()\n",
    "\n",
    "#rename columns\n",
    "in_deg_centrality_male.columns = ['station', 'in_degree_centrality']\n",
    "in_deg_centrality_female.columns = ['station', 'in_degree_centrality']"
   ]
  },
  {
   "cell_type": "code",
   "execution_count": 22,
   "metadata": {},
   "outputs": [],
   "source": [
    "#join\n",
    "in_deg_centrality_male2 = in_deg_centrality_male.join(station_name_id.set_index('station_id'), on='station')\n",
    "\n",
    "#join\n",
    "in_deg_centrality_female2 = in_deg_centrality_female.join(station_name_id.set_index('station_id'), on='station')"
   ]
  },
  {
   "cell_type": "markdown",
   "metadata": {},
   "source": [
    "### Male: Top 10 stations with most incoming connections for bike drop offs"
   ]
  },
  {
   "cell_type": "code",
   "execution_count": 23,
   "metadata": {},
   "outputs": [
    {
     "data": {
      "text/html": [
       "<div>\n",
       "<style scoped>\n",
       "    .dataframe tbody tr th:only-of-type {\n",
       "        vertical-align: middle;\n",
       "    }\n",
       "\n",
       "    .dataframe tbody tr th {\n",
       "        vertical-align: top;\n",
       "    }\n",
       "\n",
       "    .dataframe thead th {\n",
       "        text-align: right;\n",
       "    }\n",
       "</style>\n",
       "<table border=\"1\" class=\"dataframe\">\n",
       "  <thead>\n",
       "    <tr style=\"text-align: right;\">\n",
       "      <th></th>\n",
       "      <th>station</th>\n",
       "      <th>in_degree_centrality</th>\n",
       "      <th>station_name</th>\n",
       "    </tr>\n",
       "  </thead>\n",
       "  <tbody>\n",
       "    <tr>\n",
       "      <th>81</th>\n",
       "      <td>69</td>\n",
       "      <td>0.765886</td>\n",
       "      <td>Damen Ave &amp; Pierce Ave</td>\n",
       "    </tr>\n",
       "    <tr>\n",
       "      <th>167</th>\n",
       "      <td>81</td>\n",
       "      <td>0.762542</td>\n",
       "      <td>Daley Center Plaza</td>\n",
       "    </tr>\n",
       "    <tr>\n",
       "      <th>23</th>\n",
       "      <td>181</td>\n",
       "      <td>0.725753</td>\n",
       "      <td>LaSalle St &amp; Illinois St</td>\n",
       "    </tr>\n",
       "    <tr>\n",
       "      <th>180</th>\n",
       "      <td>60</td>\n",
       "      <td>0.722408</td>\n",
       "      <td>Dayton St &amp; North Ave</td>\n",
       "    </tr>\n",
       "    <tr>\n",
       "      <th>25</th>\n",
       "      <td>289</td>\n",
       "      <td>0.722408</td>\n",
       "      <td>Wells St &amp; Concord Ln</td>\n",
       "    </tr>\n",
       "    <tr>\n",
       "      <th>15</th>\n",
       "      <td>91</td>\n",
       "      <td>0.715719</td>\n",
       "      <td>Clinton St &amp; Washington Blvd</td>\n",
       "    </tr>\n",
       "    <tr>\n",
       "      <th>147</th>\n",
       "      <td>176</td>\n",
       "      <td>0.715719</td>\n",
       "      <td>Clark St &amp; Elm St</td>\n",
       "    </tr>\n",
       "    <tr>\n",
       "      <th>99</th>\n",
       "      <td>331</td>\n",
       "      <td>0.712375</td>\n",
       "      <td>Halsted St &amp; Blackhawk St</td>\n",
       "    </tr>\n",
       "    <tr>\n",
       "      <th>186</th>\n",
       "      <td>56</td>\n",
       "      <td>0.712375</td>\n",
       "      <td>Desplaines St &amp; Kinzie St</td>\n",
       "    </tr>\n",
       "    <tr>\n",
       "      <th>109</th>\n",
       "      <td>37</td>\n",
       "      <td>0.709030</td>\n",
       "      <td>Dearborn St &amp; Adams St</td>\n",
       "    </tr>\n",
       "  </tbody>\n",
       "</table>\n",
       "</div>"
      ],
      "text/plain": [
       "     station  in_degree_centrality                  station_name\n",
       "81        69              0.765886        Damen Ave & Pierce Ave\n",
       "167       81              0.762542            Daley Center Plaza\n",
       "23       181              0.725753      LaSalle St & Illinois St\n",
       "180       60              0.722408         Dayton St & North Ave\n",
       "25       289              0.722408         Wells St & Concord Ln\n",
       "15        91              0.715719  Clinton St & Washington Blvd\n",
       "147      176              0.715719             Clark St & Elm St\n",
       "99       331              0.712375     Halsted St & Blackhawk St\n",
       "186       56              0.712375     Desplaines St & Kinzie St\n",
       "109       37              0.709030        Dearborn St & Adams St"
      ]
     },
     "execution_count": 23,
     "metadata": {},
     "output_type": "execute_result"
    }
   ],
   "source": [
    "#sort\n",
    "in_deg_centrality_male = in_deg_centrality_male2.sort_values(by=['in_degree_centrality'], ascending=False)\n",
    "in_deg_centrality_male.head(n=10)"
   ]
  },
  {
   "cell_type": "markdown",
   "metadata": {},
   "source": [
    "### Female: Top 10 stations with most incoming connections for bike drop offs"
   ]
  },
  {
   "cell_type": "code",
   "execution_count": 24,
   "metadata": {},
   "outputs": [
    {
     "data": {
      "text/html": [
       "<div>\n",
       "<style scoped>\n",
       "    .dataframe tbody tr th:only-of-type {\n",
       "        vertical-align: middle;\n",
       "    }\n",
       "\n",
       "    .dataframe tbody tr th {\n",
       "        vertical-align: top;\n",
       "    }\n",
       "\n",
       "    .dataframe thead th {\n",
       "        text-align: right;\n",
       "    }\n",
       "</style>\n",
       "<table border=\"1\" class=\"dataframe\">\n",
       "  <thead>\n",
       "    <tr style=\"text-align: right;\">\n",
       "      <th></th>\n",
       "      <th>station</th>\n",
       "      <th>in_degree_centrality</th>\n",
       "      <th>station_name</th>\n",
       "    </tr>\n",
       "  </thead>\n",
       "  <tbody>\n",
       "    <tr>\n",
       "      <th>16</th>\n",
       "      <td>289</td>\n",
       "      <td>0.648829</td>\n",
       "      <td>Wells St &amp; Concord Ln</td>\n",
       "    </tr>\n",
       "    <tr>\n",
       "      <th>115</th>\n",
       "      <td>268</td>\n",
       "      <td>0.638796</td>\n",
       "      <td>Lake Shore Dr &amp; North Blvd</td>\n",
       "    </tr>\n",
       "    <tr>\n",
       "      <th>163</th>\n",
       "      <td>176</td>\n",
       "      <td>0.635452</td>\n",
       "      <td>Clark St &amp; Elm St</td>\n",
       "    </tr>\n",
       "    <tr>\n",
       "      <th>45</th>\n",
       "      <td>141</td>\n",
       "      <td>0.625418</td>\n",
       "      <td>Clark St &amp; Lincoln Ave</td>\n",
       "    </tr>\n",
       "    <tr>\n",
       "      <th>40</th>\n",
       "      <td>56</td>\n",
       "      <td>0.622074</td>\n",
       "      <td>Desplaines St &amp; Kinzie St</td>\n",
       "    </tr>\n",
       "    <tr>\n",
       "      <th>29</th>\n",
       "      <td>94</td>\n",
       "      <td>0.618729</td>\n",
       "      <td>Clark St &amp; Armitage Ave</td>\n",
       "    </tr>\n",
       "    <tr>\n",
       "      <th>107</th>\n",
       "      <td>61</td>\n",
       "      <td>0.615385</td>\n",
       "      <td>Wood St &amp; Milwaukee Ave</td>\n",
       "    </tr>\n",
       "    <tr>\n",
       "      <th>35</th>\n",
       "      <td>81</td>\n",
       "      <td>0.615385</td>\n",
       "      <td>Daley Center Plaza</td>\n",
       "    </tr>\n",
       "    <tr>\n",
       "      <th>9</th>\n",
       "      <td>69</td>\n",
       "      <td>0.615385</td>\n",
       "      <td>Damen Ave &amp; Pierce Ave</td>\n",
       "    </tr>\n",
       "    <tr>\n",
       "      <th>77</th>\n",
       "      <td>60</td>\n",
       "      <td>0.605351</td>\n",
       "      <td>Dayton St &amp; North Ave</td>\n",
       "    </tr>\n",
       "  </tbody>\n",
       "</table>\n",
       "</div>"
      ],
      "text/plain": [
       "     station  in_degree_centrality                station_name\n",
       "16       289              0.648829       Wells St & Concord Ln\n",
       "115      268              0.638796  Lake Shore Dr & North Blvd\n",
       "163      176              0.635452           Clark St & Elm St\n",
       "45       141              0.625418      Clark St & Lincoln Ave\n",
       "40        56              0.622074   Desplaines St & Kinzie St\n",
       "29        94              0.618729     Clark St & Armitage Ave\n",
       "107       61              0.615385     Wood St & Milwaukee Ave\n",
       "35        81              0.615385          Daley Center Plaza\n",
       "9         69              0.615385      Damen Ave & Pierce Ave\n",
       "77        60              0.605351       Dayton St & North Ave"
      ]
     },
     "execution_count": 24,
     "metadata": {},
     "output_type": "execute_result"
    }
   ],
   "source": [
    "#sort\n",
    "in_deg_centrality_female = in_deg_centrality_female2.sort_values(by=['in_degree_centrality'], ascending=False)\n",
    "in_deg_centrality_female.head(n=10)"
   ]
  },
  {
   "cell_type": "markdown",
   "metadata": {},
   "source": [
    "## Calculate eigenvector centrality for each station\n",
    "\n",
    "> Eigenvector centrality computes the centrality for a node based on the centrality of its neighbors. For directed graphs this is “left” eigenvector centrality which corresponds to the in-edges in the graph.\n",
    "\n",
    "Source: \n",
    "https://networkx.github.io/documentation/latest/reference/algorithms/generated/networkx.algorithms.centrality.eigenvector_centrality.html"
   ]
  },
  {
   "cell_type": "code",
   "execution_count": 25,
   "metadata": {},
   "outputs": [],
   "source": [
    "# Eigenvector centrality\n",
    "eigenvector_male = pd.DataFrame.from_dict(nx.eigenvector_centrality(G_male, weight='weight'), orient='index').reset_index()\n",
    "eigenvector_female = pd.DataFrame.from_dict(nx.eigenvector_centrality(G_female, weight='weight'), orient='index').reset_index()"
   ]
  },
  {
   "cell_type": "code",
   "execution_count": 26,
   "metadata": {},
   "outputs": [],
   "source": [
    "#Rename columns\n",
    "eigenvector_male.columns = ['station', 'eigenvector_centrality']\n",
    "eigenvector_female.columns = ['station', 'eigenvector_centrality']"
   ]
  },
  {
   "cell_type": "code",
   "execution_count": 27,
   "metadata": {},
   "outputs": [],
   "source": [
    "#join\n",
    "eigenvector_male2 = eigenvector_male.join(station_name_id.set_index('station_id'), on='station')\n",
    "\n",
    "#join\n",
    "eigenvector_female2 = eigenvector_female.join(station_name_id.set_index('station_id'), on='station')"
   ]
  },
  {
   "cell_type": "markdown",
   "metadata": {},
   "source": [
    "### Top 10 stations by eigenvector centrality \n",
    "\n",
    "These are stations with incoming connections from stations with many incoming connections. In this case, incoming connection means bike drop offs. "
   ]
  },
  {
   "cell_type": "code",
   "execution_count": 28,
   "metadata": {},
   "outputs": [],
   "source": [
    "#Top 10 stations based on eigenvector centrality\n",
    "eigenvector_centrality_male = eigenvector_male2.sort_values(by=['eigenvector_centrality'], ascending=False)\n",
    "eigenvector_centrality_female = eigenvector_female2.sort_values(by=['eigenvector_centrality'], ascending=False)"
   ]
  },
  {
   "cell_type": "code",
   "execution_count": 29,
   "metadata": {
    "scrolled": true
   },
   "outputs": [
    {
     "data": {
      "text/html": [
       "<div>\n",
       "<style scoped>\n",
       "    .dataframe tbody tr th:only-of-type {\n",
       "        vertical-align: middle;\n",
       "    }\n",
       "\n",
       "    .dataframe tbody tr th {\n",
       "        vertical-align: top;\n",
       "    }\n",
       "\n",
       "    .dataframe thead th {\n",
       "        text-align: right;\n",
       "    }\n",
       "</style>\n",
       "<table border=\"1\" class=\"dataframe\">\n",
       "  <thead>\n",
       "    <tr style=\"text-align: right;\">\n",
       "      <th></th>\n",
       "      <th>station</th>\n",
       "      <th>eigenvector_centrality</th>\n",
       "      <th>station_name</th>\n",
       "    </tr>\n",
       "  </thead>\n",
       "  <tbody>\n",
       "    <tr>\n",
       "      <th>15</th>\n",
       "      <td>91</td>\n",
       "      <td>0.325697</td>\n",
       "      <td>Clinton St &amp; Washington Blvd</td>\n",
       "    </tr>\n",
       "    <tr>\n",
       "      <th>8</th>\n",
       "      <td>174</td>\n",
       "      <td>0.322599</td>\n",
       "      <td>Canal St &amp; Madison St</td>\n",
       "    </tr>\n",
       "    <tr>\n",
       "      <th>17</th>\n",
       "      <td>192</td>\n",
       "      <td>0.269942</td>\n",
       "      <td>Canal St &amp; Adams St</td>\n",
       "    </tr>\n",
       "    <tr>\n",
       "      <th>47</th>\n",
       "      <td>43</td>\n",
       "      <td>0.207311</td>\n",
       "      <td>Michigan Ave &amp; Washington St</td>\n",
       "    </tr>\n",
       "    <tr>\n",
       "      <th>85</th>\n",
       "      <td>283</td>\n",
       "      <td>0.198029</td>\n",
       "      <td>LaSalle St &amp; Jackson Blvd</td>\n",
       "    </tr>\n",
       "    <tr>\n",
       "      <th>35</th>\n",
       "      <td>52</td>\n",
       "      <td>0.176277</td>\n",
       "      <td>Michigan Ave &amp; Lake St</td>\n",
       "    </tr>\n",
       "    <tr>\n",
       "      <th>108</th>\n",
       "      <td>195</td>\n",
       "      <td>0.169213</td>\n",
       "      <td>Columbus Dr &amp; Randolph St</td>\n",
       "    </tr>\n",
       "    <tr>\n",
       "      <th>110</th>\n",
       "      <td>47</td>\n",
       "      <td>0.164574</td>\n",
       "      <td>State St &amp; Kinzie St</td>\n",
       "    </tr>\n",
       "    <tr>\n",
       "      <th>16</th>\n",
       "      <td>100</td>\n",
       "      <td>0.164552</td>\n",
       "      <td>Orleans St &amp; Merchandise Mart Plaza</td>\n",
       "    </tr>\n",
       "    <tr>\n",
       "      <th>19</th>\n",
       "      <td>49</td>\n",
       "      <td>0.155411</td>\n",
       "      <td>Dearborn St &amp; Monroe St</td>\n",
       "    </tr>\n",
       "  </tbody>\n",
       "</table>\n",
       "</div>"
      ],
      "text/plain": [
       "     station  eigenvector_centrality                         station_name\n",
       "15        91                0.325697         Clinton St & Washington Blvd\n",
       "8        174                0.322599                Canal St & Madison St\n",
       "17       192                0.269942                  Canal St & Adams St\n",
       "47        43                0.207311         Michigan Ave & Washington St\n",
       "85       283                0.198029            LaSalle St & Jackson Blvd\n",
       "35        52                0.176277               Michigan Ave & Lake St\n",
       "108      195                0.169213            Columbus Dr & Randolph St\n",
       "110       47                0.164574                 State St & Kinzie St\n",
       "16       100                0.164552  Orleans St & Merchandise Mart Plaza\n",
       "19        49                0.155411              Dearborn St & Monroe St"
      ]
     },
     "execution_count": 29,
     "metadata": {},
     "output_type": "execute_result"
    }
   ],
   "source": [
    "eigenvector_centrality_male.head(n=10)"
   ]
  },
  {
   "cell_type": "code",
   "execution_count": 30,
   "metadata": {},
   "outputs": [
    {
     "data": {
      "text/html": [
       "<div>\n",
       "<style scoped>\n",
       "    .dataframe tbody tr th:only-of-type {\n",
       "        vertical-align: middle;\n",
       "    }\n",
       "\n",
       "    .dataframe tbody tr th {\n",
       "        vertical-align: top;\n",
       "    }\n",
       "\n",
       "    .dataframe thead th {\n",
       "        text-align: right;\n",
       "    }\n",
       "</style>\n",
       "<table border=\"1\" class=\"dataframe\">\n",
       "  <thead>\n",
       "    <tr style=\"text-align: right;\">\n",
       "      <th></th>\n",
       "      <th>station</th>\n",
       "      <th>eigenvector_centrality</th>\n",
       "      <th>station_name</th>\n",
       "    </tr>\n",
       "  </thead>\n",
       "  <tbody>\n",
       "    <tr>\n",
       "      <th>46</th>\n",
       "      <td>177</td>\n",
       "      <td>0.234861</td>\n",
       "      <td>Theater on the Lake</td>\n",
       "    </tr>\n",
       "    <tr>\n",
       "      <th>123</th>\n",
       "      <td>35</td>\n",
       "      <td>0.204619</td>\n",
       "      <td>Streeter Dr &amp; Illinois St</td>\n",
       "    </tr>\n",
       "    <tr>\n",
       "      <th>163</th>\n",
       "      <td>176</td>\n",
       "      <td>0.183319</td>\n",
       "      <td>Clark St &amp; Elm St</td>\n",
       "    </tr>\n",
       "    <tr>\n",
       "      <th>212</th>\n",
       "      <td>85</td>\n",
       "      <td>0.182209</td>\n",
       "      <td>Michigan Ave &amp; Oak St</td>\n",
       "    </tr>\n",
       "    <tr>\n",
       "      <th>16</th>\n",
       "      <td>289</td>\n",
       "      <td>0.180938</td>\n",
       "      <td>Wells St &amp; Concord Ln</td>\n",
       "    </tr>\n",
       "    <tr>\n",
       "      <th>115</th>\n",
       "      <td>268</td>\n",
       "      <td>0.180766</td>\n",
       "      <td>Lake Shore Dr &amp; North Blvd</td>\n",
       "    </tr>\n",
       "    <tr>\n",
       "      <th>155</th>\n",
       "      <td>110</td>\n",
       "      <td>0.146966</td>\n",
       "      <td>State St &amp; Erie St</td>\n",
       "    </tr>\n",
       "    <tr>\n",
       "      <th>275</th>\n",
       "      <td>76</td>\n",
       "      <td>0.136258</td>\n",
       "      <td>Lake Shore Dr &amp; Monroe St</td>\n",
       "    </tr>\n",
       "    <tr>\n",
       "      <th>45</th>\n",
       "      <td>141</td>\n",
       "      <td>0.131976</td>\n",
       "      <td>Clark St &amp; Lincoln Ave</td>\n",
       "    </tr>\n",
       "    <tr>\n",
       "      <th>11</th>\n",
       "      <td>140</td>\n",
       "      <td>0.131285</td>\n",
       "      <td>Dearborn Pkwy &amp; Delaware Pl</td>\n",
       "    </tr>\n",
       "  </tbody>\n",
       "</table>\n",
       "</div>"
      ],
      "text/plain": [
       "     station  eigenvector_centrality                 station_name\n",
       "46       177                0.234861          Theater on the Lake\n",
       "123       35                0.204619    Streeter Dr & Illinois St\n",
       "163      176                0.183319            Clark St & Elm St\n",
       "212       85                0.182209        Michigan Ave & Oak St\n",
       "16       289                0.180938        Wells St & Concord Ln\n",
       "115      268                0.180766   Lake Shore Dr & North Blvd\n",
       "155      110                0.146966           State St & Erie St\n",
       "275       76                0.136258    Lake Shore Dr & Monroe St\n",
       "45       141                0.131976       Clark St & Lincoln Ave\n",
       "11       140                0.131285  Dearborn Pkwy & Delaware Pl"
      ]
     },
     "execution_count": 30,
     "metadata": {},
     "output_type": "execute_result"
    }
   ],
   "source": [
    "eigenvector_centrality_female.head(n=10)"
   ]
  },
  {
   "cell_type": "markdown",
   "metadata": {},
   "source": [
    "## Degree centrality comparison\n",
    "\n",
    "For each station, the difference in degree centrality is determined for male and female groups.\n"
   ]
  },
  {
   "cell_type": "code",
   "execution_count": 31,
   "metadata": {},
   "outputs": [],
   "source": [
    "#Create dataframe that compares degree of centrality for each station for male and female groups\n",
    "\n",
    "#rename columns\n",
    "in_deg_centrality_female.columns = ['f_station', 'f_in_degree_centrality', 'f_station_name']\n",
    "\n",
    "#rename columns\n",
    "in_deg_centrality_male.columns = ['m_station', 'm_in_degree_centrality', 'm_station_name']\n",
    "\n",
    "#join male and female centrality data by station id\n",
    "in_deg_centrality_compare = in_deg_centrality_male.join(in_deg_centrality_female.set_index('f_station'), on='m_station')\n",
    "\n",
    "#drop the index\n",
    "in_deg_centrality_compare.reset_index(drop=True)\n",
    "\n",
    "#drop repeated information\n",
    "in_deg_centrality_compare = in_deg_centrality_compare.drop(['f_station_name'], axis=1)\n",
    "\n",
    "#rename columns \n",
    "in_deg_centrality_compare.columns = ['station_id', 'm_in_degree_centrality', 'station_name', 'f_in_degree_centrality']\n",
    "\n",
    "#Calculate difference between male and female in degree centrality for a given station\n",
    "in_deg_centrality_compare['difference'] = in_deg_centrality_compare.apply(lambda row: abs(row['m_in_degree_centrality']-row['f_in_degree_centrality']), axis=1)"
   ]
  },
  {
   "cell_type": "code",
   "execution_count": 32,
   "metadata": {},
   "outputs": [
    {
     "data": {
      "text/html": [
       "<div>\n",
       "<style scoped>\n",
       "    .dataframe tbody tr th:only-of-type {\n",
       "        vertical-align: middle;\n",
       "    }\n",
       "\n",
       "    .dataframe tbody tr th {\n",
       "        vertical-align: top;\n",
       "    }\n",
       "\n",
       "    .dataframe thead th {\n",
       "        text-align: right;\n",
       "    }\n",
       "</style>\n",
       "<table border=\"1\" class=\"dataframe\">\n",
       "  <thead>\n",
       "    <tr style=\"text-align: right;\">\n",
       "      <th></th>\n",
       "      <th>station_name</th>\n",
       "      <th>difference</th>\n",
       "    </tr>\n",
       "  </thead>\n",
       "  <tbody>\n",
       "    <tr>\n",
       "      <th>81</th>\n",
       "      <td>Damen Ave &amp; Pierce Ave</td>\n",
       "      <td>0.150502</td>\n",
       "    </tr>\n",
       "    <tr>\n",
       "      <th>167</th>\n",
       "      <td>Daley Center Plaza</td>\n",
       "      <td>0.147157</td>\n",
       "    </tr>\n",
       "    <tr>\n",
       "      <th>23</th>\n",
       "      <td>LaSalle St &amp; Illinois St</td>\n",
       "      <td>0.143813</td>\n",
       "    </tr>\n",
       "    <tr>\n",
       "      <th>180</th>\n",
       "      <td>Dayton St &amp; North Ave</td>\n",
       "      <td>0.117057</td>\n",
       "    </tr>\n",
       "    <tr>\n",
       "      <th>25</th>\n",
       "      <td>Wells St &amp; Concord Ln</td>\n",
       "      <td>0.073579</td>\n",
       "    </tr>\n",
       "    <tr>\n",
       "      <th>15</th>\n",
       "      <td>Clinton St &amp; Washington Blvd</td>\n",
       "      <td>0.157191</td>\n",
       "    </tr>\n",
       "    <tr>\n",
       "      <th>147</th>\n",
       "      <td>Clark St &amp; Elm St</td>\n",
       "      <td>0.080268</td>\n",
       "    </tr>\n",
       "    <tr>\n",
       "      <th>99</th>\n",
       "      <td>Halsted St &amp; Blackhawk St</td>\n",
       "      <td>0.153846</td>\n",
       "    </tr>\n",
       "    <tr>\n",
       "      <th>186</th>\n",
       "      <td>Desplaines St &amp; Kinzie St</td>\n",
       "      <td>0.090301</td>\n",
       "    </tr>\n",
       "    <tr>\n",
       "      <th>109</th>\n",
       "      <td>Dearborn St &amp; Adams St</td>\n",
       "      <td>0.153846</td>\n",
       "    </tr>\n",
       "  </tbody>\n",
       "</table>\n",
       "</div>"
      ],
      "text/plain": [
       "                     station_name  difference\n",
       "81         Damen Ave & Pierce Ave    0.150502\n",
       "167            Daley Center Plaza    0.147157\n",
       "23       LaSalle St & Illinois St    0.143813\n",
       "180         Dayton St & North Ave    0.117057\n",
       "25          Wells St & Concord Ln    0.073579\n",
       "15   Clinton St & Washington Blvd    0.157191\n",
       "147             Clark St & Elm St    0.080268\n",
       "99      Halsted St & Blackhawk St    0.153846\n",
       "186     Desplaines St & Kinzie St    0.090301\n",
       "109        Dearborn St & Adams St    0.153846"
      ]
     },
     "execution_count": 32,
     "metadata": {},
     "output_type": "execute_result"
    }
   ],
   "source": [
    "in_deg_centrality_compare[['station_name', 'difference']].head(n=10)"
   ]
  },
  {
   "cell_type": "code",
   "execution_count": 33,
   "metadata": {},
   "outputs": [
    {
     "data": {
      "text/plain": [
       "0.11114124157602424"
      ]
     },
     "execution_count": 33,
     "metadata": {},
     "output_type": "execute_result"
    }
   ],
   "source": [
    "#mean of difference\n",
    "in_deg_centrality_compare['difference'].mean()"
   ]
  },
  {
   "cell_type": "markdown",
   "metadata": {},
   "source": [
    "## Test if mean difference of male and female degree centrality is zero\n",
    "\n",
    "### Null Hypothesis: \n",
    "The mean difference between male and female degree centrality for each drop off bike station is zero. \n",
    "\n",
    "### Alternative Hypothesis: \n",
    "The mean difference between male and female degree centrality for each drop off bike station is not zero. \n",
    "\n",
    "#### scipy.stats.ttest_1samp\n",
    "\n",
    ">Calculates the T-test for the mean of ONE group of scores. This is a two-sided test for the null hypothesis that the expected value (mean) of a sample of independent observations a is equal to the given population mean.\n",
    "\n",
    "Source: https://docs.scipy.org/doc/scipy-0.14.0/reference/generated/scipy.stats.ttest_1samp.html\n",
    "     "
   ]
  },
  {
   "cell_type": "code",
   "execution_count": 34,
   "metadata": {},
   "outputs": [
    {
     "data": {
      "text/plain": [
       "Ttest_1sampResult(statistic=44.125816540055204, pvalue=6.245978575816204e-141)"
      ]
     },
     "execution_count": 34,
     "metadata": {},
     "output_type": "execute_result"
    }
   ],
   "source": [
    "ttest_1samp(in_deg_centrality_compare['difference'], 0)"
   ]
  },
  {
   "cell_type": "markdown",
   "metadata": {},
   "source": [
    "### Result of ttest\n",
    "\n",
    "Since the pvalue (6.245978575816204e-141) is much less than 0.05. We  reject the null hypothesis. \n",
    "\n",
    "Assuming that the null hypothesis is true (mean is zero), the probability of observing the data that we have is very small.\n",
    "\n",
    "Hence we conclude that there is a difference in the degree centrality in stations where male and female riders drop off their bikes.\n",
    "\n"
   ]
  },
  {
   "cell_type": "markdown",
   "metadata": {},
   "source": [
    "## Eigenvector Centrality Comparison"
   ]
  },
  {
   "cell_type": "markdown",
   "metadata": {},
   "source": [
    "For each station, calculate the difference in eigenvector centrality for male and female groups."
   ]
  },
  {
   "cell_type": "code",
   "execution_count": 35,
   "metadata": {},
   "outputs": [],
   "source": [
    "#Create dataframe that compares degree of centrality for each station for male and female groups\n",
    "\n",
    "#rename columns\n",
    "eigenvector_centrality_female.columns = ['f_station', 'f_in_degree_centrality', 'f_station_name']\n",
    "\n",
    "#rename columns\n",
    "eigenvector_centrality_male.columns = ['m_station', 'm_in_degree_centrality', 'm_station_name']\n",
    "\n",
    "#join male and female centrality data by station id\n",
    "eigenvector_centrality_compare = eigenvector_centrality_male.join(eigenvector_centrality_female.set_index('f_station'), on='m_station')\n",
    "\n",
    "#drop the index\n",
    "eigenvector_centrality_compare.reset_index(drop=True)\n",
    "\n",
    "#drop repeated information\n",
    "eigenvector_centrality_compare = eigenvector_centrality_compare.drop(['f_station_name'], axis=1)\n",
    "\n",
    "#rename columns \n",
    "eigenvector_centrality_compare.columns = ['station_id', 'm_in_degree_centrality', 'station_name', 'f_in_degree_centrality']\n",
    "\n",
    "#Calculate difference between male and female in degree centrality for a given station\n",
    "eigenvector_centrality_compare['difference'] = eigenvector_centrality_compare.apply(lambda row: abs(row['m_in_degree_centrality']-row['f_in_degree_centrality']), axis=1)"
   ]
  },
  {
   "cell_type": "code",
   "execution_count": 36,
   "metadata": {},
   "outputs": [
    {
     "data": {
      "text/html": [
       "<div>\n",
       "<style scoped>\n",
       "    .dataframe tbody tr th:only-of-type {\n",
       "        vertical-align: middle;\n",
       "    }\n",
       "\n",
       "    .dataframe tbody tr th {\n",
       "        vertical-align: top;\n",
       "    }\n",
       "\n",
       "    .dataframe thead th {\n",
       "        text-align: right;\n",
       "    }\n",
       "</style>\n",
       "<table border=\"1\" class=\"dataframe\">\n",
       "  <thead>\n",
       "    <tr style=\"text-align: right;\">\n",
       "      <th></th>\n",
       "      <th>station_name</th>\n",
       "      <th>difference</th>\n",
       "    </tr>\n",
       "  </thead>\n",
       "  <tbody>\n",
       "    <tr>\n",
       "      <th>15</th>\n",
       "      <td>Clinton St &amp; Washington Blvd</td>\n",
       "      <td>0.198403</td>\n",
       "    </tr>\n",
       "    <tr>\n",
       "      <th>8</th>\n",
       "      <td>Canal St &amp; Madison St</td>\n",
       "      <td>0.208735</td>\n",
       "    </tr>\n",
       "    <tr>\n",
       "      <th>17</th>\n",
       "      <td>Canal St &amp; Adams St</td>\n",
       "      <td>0.165816</td>\n",
       "    </tr>\n",
       "    <tr>\n",
       "      <th>47</th>\n",
       "      <td>Michigan Ave &amp; Washington St</td>\n",
       "      <td>0.120067</td>\n",
       "    </tr>\n",
       "    <tr>\n",
       "      <th>85</th>\n",
       "      <td>LaSalle St &amp; Jackson Blvd</td>\n",
       "      <td>0.130452</td>\n",
       "    </tr>\n",
       "    <tr>\n",
       "      <th>35</th>\n",
       "      <td>Michigan Ave &amp; Lake St</td>\n",
       "      <td>0.091670</td>\n",
       "    </tr>\n",
       "    <tr>\n",
       "      <th>108</th>\n",
       "      <td>Columbus Dr &amp; Randolph St</td>\n",
       "      <td>0.081871</td>\n",
       "    </tr>\n",
       "    <tr>\n",
       "      <th>110</th>\n",
       "      <td>State St &amp; Kinzie St</td>\n",
       "      <td>0.069427</td>\n",
       "    </tr>\n",
       "    <tr>\n",
       "      <th>16</th>\n",
       "      <td>Orleans St &amp; Merchandise Mart Plaza</td>\n",
       "      <td>0.075436</td>\n",
       "    </tr>\n",
       "    <tr>\n",
       "      <th>19</th>\n",
       "      <td>Dearborn St &amp; Monroe St</td>\n",
       "      <td>0.069839</td>\n",
       "    </tr>\n",
       "  </tbody>\n",
       "</table>\n",
       "</div>"
      ],
      "text/plain": [
       "                            station_name  difference\n",
       "15          Clinton St & Washington Blvd    0.198403\n",
       "8                  Canal St & Madison St    0.208735\n",
       "17                   Canal St & Adams St    0.165816\n",
       "47          Michigan Ave & Washington St    0.120067\n",
       "85             LaSalle St & Jackson Blvd    0.130452\n",
       "35                Michigan Ave & Lake St    0.091670\n",
       "108            Columbus Dr & Randolph St    0.081871\n",
       "110                 State St & Kinzie St    0.069427\n",
       "16   Orleans St & Merchandise Mart Plaza    0.075436\n",
       "19               Dearborn St & Monroe St    0.069839"
      ]
     },
     "execution_count": 36,
     "metadata": {},
     "output_type": "execute_result"
    }
   ],
   "source": [
    "eigenvector_centrality_compare[['station_name', 'difference']].head(n=10)"
   ]
  },
  {
   "cell_type": "code",
   "execution_count": 38,
   "metadata": {},
   "outputs": [
    {
     "data": {
      "text/plain": [
       "0.02208014075840004"
      ]
     },
     "execution_count": 38,
     "metadata": {},
     "output_type": "execute_result"
    }
   ],
   "source": [
    "#mean of difference\n",
    "eigenvector_centrality_compare['difference'].mean()"
   ]
  },
  {
   "cell_type": "markdown",
   "metadata": {},
   "source": [
    "## Test if mean difference of male and female eigenvector centrality is zero\n",
    "\n",
    "### Null Hypothesis: \n",
    "The mean difference between male and female eigenvector centrality for each drop off bike station is zero. \n",
    "\n",
    "### Alternative Hypothesis: \n",
    "The mean difference between male and female eigenvector centrality for each drop off bike station is not zero. \n",
    "\n",
    "#### scipy.stats.ttest_1samp\n",
    "\n",
    ">Calculates the T-test for the mean of ONE group of scores. This is a two-sided test for the null hypothesis that the expected value (mean) of a sample of independent observations a is equal to the given population mean.\n",
    "\n",
    "Source: https://docs.scipy.org/doc/scipy-0.14.0/reference/generated/scipy.stats.ttest_1samp.html"
   ]
  },
  {
   "cell_type": "code",
   "execution_count": 37,
   "metadata": {},
   "outputs": [
    {
     "data": {
      "text/plain": [
       "Ttest_1sampResult(statistic=12.928256492844083, pvalue=3.020672599424717e-31)"
      ]
     },
     "execution_count": 37,
     "metadata": {},
     "output_type": "execute_result"
    }
   ],
   "source": [
    "ttest_1samp(eigenvector_centrality_compare['difference'], 0)"
   ]
  },
  {
   "cell_type": "markdown",
   "metadata": {},
   "source": [
    "### Result of ttest\n",
    "\n",
    "Since the pvalue (3.020672599424717e-31) is much less than 0.05. We  reject the null hypothesis. \n",
    "\n",
    "Assuming that the null hypothesis is true (mean is zero), the probability of observing the data that we have is very small.\n",
    "\n",
    "Hence we conclude that there is a difference in the eigenvector centrality in stations where male and female riders drop off their bikes.\n"
   ]
  },
  {
   "cell_type": "markdown",
   "metadata": {},
   "source": [
    "------\n",
    "Data 620 Team No. 6"
   ]
  }
 ],
 "metadata": {
  "kernelspec": {
   "display_name": "Python 3",
   "language": "python",
   "name": "python3"
  },
  "language_info": {
   "codemirror_mode": {
    "name": "ipython",
    "version": 3
   },
   "file_extension": ".py",
   "mimetype": "text/x-python",
   "name": "python",
   "nbconvert_exporter": "python",
   "pygments_lexer": "ipython3",
   "version": "3.6.5"
  }
 },
 "nbformat": 4,
 "nbformat_minor": 2
}
